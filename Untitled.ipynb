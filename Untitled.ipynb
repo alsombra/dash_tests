{
 "cells": [
  {
   "cell_type": "code",
   "execution_count": 27,
   "metadata": {},
   "outputs": [],
   "source": [
    "import numpy as np"
   ]
  },
  {
   "cell_type": "code",
   "execution_count": 2,
   "metadata": {},
   "outputs": [],
   "source": [
    "def nangmean(arr):\n",
    "    arr = np.asarray(arr)\n",
    "    inverse = 1 / np.sum(~np.isnan(arr))\n",
    "    apoio = inverse * np.nansum(np.log(arr))\n",
    "    nangmean = np.exp(apoio)\n",
    "    return nangmean"
   ]
  },
  {
   "cell_type": "code",
   "execution_count": 3,
   "metadata": {},
   "outputs": [
    {
     "data": {
      "text/plain": [
       "1.7320508075688774"
      ]
     },
     "execution_count": 3,
     "metadata": {},
     "output_type": "execute_result"
    }
   ],
   "source": [
    "nangmean([1,3])"
   ]
  },
  {
   "cell_type": "code",
   "execution_count": 9,
   "metadata": {},
   "outputs": [
    {
     "data": {
      "text/plain": [
       "array([1, 2])"
      ]
     },
     "execution_count": 9,
     "metadata": {},
     "output_type": "execute_result"
    }
   ],
   "source": [
    "arr = np.asarray([1,2])\n",
    "arr"
   ]
  },
  {
   "cell_type": "code",
   "execution_count": 18,
   "metadata": {},
   "outputs": [],
   "source": [
    "inverse = 1/ np.sum(~np.isnan(arr))"
   ]
  },
  {
   "cell_type": "code",
   "execution_count": 22,
   "metadata": {},
   "outputs": [
    {
     "data": {
      "text/plain": [
       "1.414213562373095"
      ]
     },
     "execution_count": 22,
     "metadata": {},
     "output_type": "execute_result"
    }
   ],
   "source": [
    "np.exp(inverse * np.nansum(np.log(arr)))"
   ]
  },
  {
   "cell_type": "code",
   "execution_count": 40,
   "metadata": {},
   "outputs": [],
   "source": [
    "import export_to_pivot as exp\n",
    "import gera_inflacao_mes as gim"
   ]
  },
  {
   "cell_type": "code",
   "execution_count": 41,
   "metadata": {},
   "outputs": [],
   "source": [
    "df1 = round(gim.gera_inflacao_mes(gim.price_pivot, subitem=None, ano_mes=None),5)"
   ]
  },
  {
   "cell_type": "code",
   "execution_count": 74,
   "metadata": {},
   "outputs": [
    {
     "data": {
      "text/html": [
       "<div>\n",
       "<style scoped>\n",
       "    .dataframe tbody tr th:only-of-type {\n",
       "        vertical-align: middle;\n",
       "    }\n",
       "\n",
       "    .dataframe tbody tr th {\n",
       "        vertical-align: top;\n",
       "    }\n",
       "\n",
       "    .dataframe thead th {\n",
       "        text-align: right;\n",
       "    }\n",
       "</style>\n",
       "<table border=\"1\" class=\"dataframe\">\n",
       "  <thead>\n",
       "    <tr style=\"text-align: right;\">\n",
       "      <th></th>\n",
       "      <th>0</th>\n",
       "      <th>1</th>\n",
       "      <th>2</th>\n",
       "      <th>3</th>\n",
       "      <th>4</th>\n",
       "      <th>5</th>\n",
       "      <th>6</th>\n",
       "      <th>7</th>\n",
       "      <th>8</th>\n",
       "      <th>9</th>\n",
       "      <th>...</th>\n",
       "      <th>14</th>\n",
       "      <th>15</th>\n",
       "      <th>16</th>\n",
       "      <th>17</th>\n",
       "      <th>18</th>\n",
       "      <th>19</th>\n",
       "      <th>20</th>\n",
       "      <th>21</th>\n",
       "      <th>22</th>\n",
       "      <th>23</th>\n",
       "    </tr>\n",
       "  </thead>\n",
       "  <tbody>\n",
       "    <tr>\n",
       "      <th>ipc_subitem_name</th>\n",
       "      <td>acem</td>\n",
       "      <td>acucar_cristal</td>\n",
       "      <td>acucar_refinado</td>\n",
       "      <td>alcatra</td>\n",
       "      <td>arroz</td>\n",
       "      <td>banana_nanica</td>\n",
       "      <td>banana_prata</td>\n",
       "      <td>banana_terra</td>\n",
       "      <td>batata_inglesa</td>\n",
       "      <td>cafe_po</td>\n",
       "      <td>...</td>\n",
       "      <td>feijao_preto</td>\n",
       "      <td>leite</td>\n",
       "      <td>macarrao</td>\n",
       "      <td>manteiga</td>\n",
       "      <td>margarina</td>\n",
       "      <td>oleo_soja</td>\n",
       "      <td>pao_forma</td>\n",
       "      <td>pao_frances</td>\n",
       "      <td>patinho</td>\n",
       "      <td>tomate</td>\n",
       "    </tr>\n",
       "    <tr>\n",
       "      <th>2017-Aug</th>\n",
       "      <td>0.988</td>\n",
       "      <td>0.93474</td>\n",
       "      <td>0.96638</td>\n",
       "      <td>1.00134</td>\n",
       "      <td>0.98008</td>\n",
       "      <td>0.95099</td>\n",
       "      <td>0.97452</td>\n",
       "      <td>0.99791</td>\n",
       "      <td>1.00374</td>\n",
       "      <td>1.00732</td>\n",
       "      <td>...</td>\n",
       "      <td>0.98248</td>\n",
       "      <td>0.95079</td>\n",
       "      <td>1.00125</td>\n",
       "      <td>1.00622</td>\n",
       "      <td>0.98784</td>\n",
       "      <td>0.97616</td>\n",
       "      <td>0.97736</td>\n",
       "      <td>0.9915</td>\n",
       "      <td>1.0056</td>\n",
       "      <td>0.85794</td>\n",
       "    </tr>\n",
       "    <tr>\n",
       "      <th>2017-Jul</th>\n",
       "      <td>1.03228</td>\n",
       "      <td>0.97782</td>\n",
       "      <td>1.00078</td>\n",
       "      <td>0.97155</td>\n",
       "      <td>0.99559</td>\n",
       "      <td>1.02567</td>\n",
       "      <td>0.99191</td>\n",
       "      <td>1.00709</td>\n",
       "      <td>0.79903</td>\n",
       "      <td>0.99418</td>\n",
       "      <td>...</td>\n",
       "      <td>1.01007</td>\n",
       "      <td>0.97152</td>\n",
       "      <td>0.98204</td>\n",
       "      <td>1.00776</td>\n",
       "      <td>0.99019</td>\n",
       "      <td>0.99193</td>\n",
       "      <td>0.99538</td>\n",
       "      <td>0.99011</td>\n",
       "      <td>0.99668</td>\n",
       "      <td>1.23971</td>\n",
       "    </tr>\n",
       "    <tr>\n",
       "      <th>2017-Jun</th>\n",
       "      <td>1.01525</td>\n",
       "      <td>0.99798</td>\n",
       "      <td>0.99769</td>\n",
       "      <td>0.99025</td>\n",
       "      <td>0.99317</td>\n",
       "      <td>1.1483</td>\n",
       "      <td>0.96712</td>\n",
       "      <td>1.00047</td>\n",
       "      <td>0.91129</td>\n",
       "      <td>0.99692</td>\n",
       "      <td>...</td>\n",
       "      <td>0.97156</td>\n",
       "      <td>0.9884</td>\n",
       "      <td>1.00726</td>\n",
       "      <td>1.00821</td>\n",
       "      <td>1.00484</td>\n",
       "      <td>0.99296</td>\n",
       "      <td>1.00913</td>\n",
       "      <td>1</td>\n",
       "      <td>0.98439</td>\n",
       "      <td>1.03007</td>\n",
       "    </tr>\n",
       "    <tr>\n",
       "      <th>2017-Sep</th>\n",
       "      <td>0.98753</td>\n",
       "      <td>0.95273</td>\n",
       "      <td>0.953</td>\n",
       "      <td>1.00721</td>\n",
       "      <td>0.98653</td>\n",
       "      <td>0.93379</td>\n",
       "      <td>0.98018</td>\n",
       "      <td>0.9978</td>\n",
       "      <td>0.9027</td>\n",
       "      <td>0.99824</td>\n",
       "      <td>...</td>\n",
       "      <td>0.97179</td>\n",
       "      <td>0.97214</td>\n",
       "      <td>0.99482</td>\n",
       "      <td>0.99431</td>\n",
       "      <td>0.98704</td>\n",
       "      <td>0.98053</td>\n",
       "      <td>0.98619</td>\n",
       "      <td>0.99801</td>\n",
       "      <td>1.01771</td>\n",
       "      <td>0.9119</td>\n",
       "    </tr>\n",
       "  </tbody>\n",
       "</table>\n",
       "<p>5 rows × 24 columns</p>\n",
       "</div>"
      ],
      "text/plain": [
       "                       0               1                2        3        4   \\\n",
       "ipc_subitem_name     acem  acucar_cristal  acucar_refinado  alcatra    arroz   \n",
       "2017-Aug            0.988         0.93474          0.96638  1.00134  0.98008   \n",
       "2017-Jul          1.03228         0.97782          1.00078  0.97155  0.99559   \n",
       "2017-Jun          1.01525         0.99798          0.99769  0.99025  0.99317   \n",
       "2017-Sep          0.98753         0.95273            0.953  1.00721  0.98653   \n",
       "\n",
       "                             5             6             7               8   \\\n",
       "ipc_subitem_name  banana_nanica  banana_prata  banana_terra  batata_inglesa   \n",
       "2017-Aug                0.95099       0.97452       0.99791         1.00374   \n",
       "2017-Jul                1.02567       0.99191       1.00709         0.79903   \n",
       "2017-Jun                 1.1483       0.96712       1.00047         0.91129   \n",
       "2017-Sep                0.93379       0.98018        0.9978          0.9027   \n",
       "\n",
       "                       9    ...               14       15        16        17  \\\n",
       "ipc_subitem_name  cafe_po   ...     feijao_preto    leite  macarrao  manteiga   \n",
       "2017-Aug          1.00732   ...          0.98248  0.95079   1.00125   1.00622   \n",
       "2017-Jul          0.99418   ...          1.01007  0.97152   0.98204   1.00776   \n",
       "2017-Jun          0.99692   ...          0.97156   0.9884   1.00726   1.00821   \n",
       "2017-Sep          0.99824   ...          0.97179  0.97214   0.99482   0.99431   \n",
       "\n",
       "                         18         19         20           21       22  \\\n",
       "ipc_subitem_name  margarina  oleo_soja  pao_forma  pao_frances  patinho   \n",
       "2017-Aug            0.98784    0.97616    0.97736       0.9915   1.0056   \n",
       "2017-Jul            0.99019    0.99193    0.99538      0.99011  0.99668   \n",
       "2017-Jun            1.00484    0.99296    1.00913            1  0.98439   \n",
       "2017-Sep            0.98704    0.98053    0.98619      0.99801  1.01771   \n",
       "\n",
       "                       23  \n",
       "ipc_subitem_name   tomate  \n",
       "2017-Aug          0.85794  \n",
       "2017-Jul          1.23971  \n",
       "2017-Jun          1.03007  \n",
       "2017-Sep           0.9119  \n",
       "\n",
       "[5 rows x 24 columns]"
      ]
     },
     "execution_count": 74,
     "metadata": {},
     "output_type": "execute_result"
    }
   ],
   "source": [
    "df1.T"
   ]
  },
  {
   "cell_type": "code",
   "execution_count": 77,
   "metadata": {},
   "outputs": [
    {
     "ename": "NameError",
     "evalue": "name 'go' is not defined",
     "output_type": "error",
     "traceback": [
      "\u001b[1;31m---------------------------------------------------------------------------\u001b[0m",
      "\u001b[1;31mNameError\u001b[0m                                 Traceback (most recent call last)",
      "\u001b[1;32m<ipython-input-77-874da7292ce6>\u001b[0m in \u001b[0;36m<module>\u001b[1;34m()\u001b[0m\n\u001b[0;32m      4\u001b[0m \u001b[0mtraces\u001b[0m\u001b[1;33m=\u001b[0m\u001b[1;33m[\u001b[0m\u001b[1;33m]\u001b[0m\u001b[1;33m\u001b[0m\u001b[0m\n\u001b[0;32m      5\u001b[0m \u001b[1;32mfor\u001b[0m \u001b[0mi\u001b[0m \u001b[1;32min\u001b[0m \u001b[0mrange\u001b[0m\u001b[1;33m(\u001b[0m\u001b[0mlen\u001b[0m\u001b[1;33m(\u001b[0m\u001b[0mdf1\u001b[0m\u001b[1;33m[\u001b[0m\u001b[1;34m'ipc_subitem_name'\u001b[0m\u001b[1;33m]\u001b[0m\u001b[1;33m)\u001b[0m\u001b[1;33m)\u001b[0m\u001b[1;33m:\u001b[0m\u001b[1;33m\u001b[0m\u001b[0m\n\u001b[1;32m----> 6\u001b[1;33m     traces.append(go.Scatter(\n\u001b[0m\u001b[0;32m      7\u001b[0m         \u001b[0mx\u001b[0m \u001b[1;33m=\u001b[0m \u001b[0mx_data\u001b[0m\u001b[1;33m,\u001b[0m\u001b[1;33m\u001b[0m\u001b[0m\n\u001b[0;32m      8\u001b[0m         \u001b[0my\u001b[0m \u001b[1;33m=\u001b[0m \u001b[0mdf1\u001b[0m\u001b[1;33m.\u001b[0m\u001b[0mT\u001b[0m\u001b[1;33m[\u001b[0m\u001b[0mi\u001b[0m\u001b[1;33m]\u001b[0m\u001b[1;33m,\u001b[0m\u001b[1;33m\u001b[0m\u001b[0m\n",
      "\u001b[1;31mNameError\u001b[0m: name 'go' is not defined"
     ]
    }
   ],
   "source": [
    "x_data = df1.columns[1:]\n",
    "y_data = df1['ipc_subitem_name']    \n",
    "\n",
    "traces=[]\n",
    "for i in range(len(df1['ipc_subitem_name'])):\n",
    "    traces.append(go.Scatter(\n",
    "        x = x_data,\n",
    "        y = df1.T[i],\n",
    "        name = y_data[i]\n",
    "    ))"
   ]
  },
  {
   "cell_type": "code",
   "execution_count": 82,
   "metadata": {},
   "outputs": [
    {
     "data": {
      "text/plain": [
       "Index(['2017-Aug', '2017-Jul', '2017-Jun', '2017-Sep'], dtype='object')"
      ]
     },
     "execution_count": 82,
     "metadata": {},
     "output_type": "execute_result"
    }
   ],
   "source": [
    "df1.columns[1:]"
   ]
  }
 ],
 "metadata": {
  "kernelspec": {
   "display_name": "Python 3",
   "language": "python",
   "name": "python3"
  },
  "language_info": {
   "codemirror_mode": {
    "name": "ipython",
    "version": 3
   },
   "file_extension": ".py",
   "mimetype": "text/x-python",
   "name": "python",
   "nbconvert_exporter": "python",
   "pygments_lexer": "ipython3",
   "version": "3.7.0"
  }
 },
 "nbformat": 4,
 "nbformat_minor": 2
}
